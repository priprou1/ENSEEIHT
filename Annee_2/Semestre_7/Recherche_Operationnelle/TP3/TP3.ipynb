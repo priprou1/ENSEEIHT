{
 "cells": [
  {
   "cell_type": "markdown",
   "id": "1d56b87b",
   "metadata": {},
   "source": [
    "# TP 3 : Dynamic programmation applied to a knapsack problem\n",
    "\n",
    "## Girard Antoine et Gonthier Priscilia\n",
    "\n",
    "\n",
    "### Récupération des données"
   ]
  },
  {
   "cell_type": "code",
   "execution_count": 2,
   "id": "a687f776",
   "metadata": {},
   "outputs": [
    {
     "data": {
      "text/plain": [
       "readKnaptxtInstance (generic function with 1 method)"
      ]
     },
     "execution_count": 2,
     "metadata": {},
     "output_type": "execute_result"
    }
   ],
   "source": [
    "function readKnaptxtInstance(filename)\n",
    "    price=[]\n",
    "    weight=[]\n",
    "    KnapCap=[]\n",
    "    open(filename) do f\n",
    "        for i in 1:3\n",
    "            tok = split(readline(f))\n",
    "            if(tok[1] == \"ListPrices=\")\n",
    "                for i in 2:(length(tok)-1)\n",
    "                    push!(price,parse(Int64, tok[i]))\n",
    "                end\n",
    "            elseif(tok[1] == \"ListWeights=\")\n",
    "                for i in 2:(length(tok)-1)\n",
    "                    push!(weight,parse(Int64, tok[i]))\n",
    "                end\n",
    "            elseif(tok[1] == \"Capacity=\")\n",
    "                push!(KnapCap, parse(Int64, tok[2]))\n",
    "            else\n",
    "                println(\"Unknown read :\", tok)\n",
    "            end \n",
    "        end\n",
    "    end\n",
    "    capacity=KnapCap[1]\n",
    "    return price, weight, capacity\n",
    "end"
   ]
  },
  {
   "cell_type": "markdown",
   "id": "78e1508d",
   "metadata": {},
   "source": [
    "### Fonction de résolution"
   ]
  },
  {
   "cell_type": "code",
   "execution_count": 3,
   "id": "df8b7f9a",
   "metadata": {},
   "outputs": [
    {
     "data": {
      "text/plain": [
       "resolve (generic function with 1 method)"
      ]
     },
     "execution_count": 3,
     "metadata": {},
     "output_type": "execute_result"
    }
   ],
   "source": [
    "function resolve(filename)\n",
    "    price, weight, capacity = readKnaptxtInstance(filename)\n",
    "    \n",
    "    indices = sortperm(weight)\n",
    "    \n",
    "    sol = zeros(length(indices),capacity+1)\n",
    "    \n",
    "    # Calcul des éléments du tableau\n",
    "    for i in 1:length(indices)\n",
    "        for j in 1:capacity\n",
    "            # Si i <= 1 : cas de la première ligne\n",
    "            # Si on ne peut pas rentrer l'objet car le poids est supérieur à la capacité on laisse à 0\n",
    "            # Sinon on met le coût de l'objet dans le tableau\n",
    "            if i<=1 \n",
    "                if j >= weight[indices[i]]\n",
    "                    sol[i,j+1] = price[indices[i]]\n",
    "                end\n",
    "            # Si j-weight[indices[i]] < 0 : cas où le poids de l'objet i est supérieur à la capacité courante\n",
    "            # On ne peut pas poser l'objet donc on prend le coût optimal précédent\n",
    "            elseif j-weight[indices[i]] < 0\n",
    "                sol[i,j+1] = sol[i-1,j+1]\n",
    "            # Sinon : cas où la capacité courante est supérieure au poids de l'objet\n",
    "            # Relation de récurrence\n",
    "            # On prend la solution optimale entre :\n",
    "            #    - prendre l'objet i : sol[i-1, j+1-weight[indices[i]]]+price[indices[i]]\n",
    "            #    - ne pas prendre l'objet i : sol[i-1,j+1]\n",
    "            else\n",
    "                sol[i,j+1] = max(sol[i-1,j+1], sol[i-1, j+1-weight[indices[i]]]+price[indices[i]])\n",
    "            end\n",
    "        end  \n",
    "    end\n",
    "    \n",
    "    BestProfit = sol[end,end]\n",
    "    Bestsol = zeros(length(indices))\n",
    "    j = capacity+1\n",
    "    \n",
    "    # Parcours inverse pour récupérer la solution.\n",
    "    for i in length(indices):-1:1\n",
    "        if i==1\n",
    "            if sol[i,j] > 0\n",
    "                Bestsol[indices[i]] = 1\n",
    "            end\n",
    "        elseif j-weight[indices[i]]>=0\n",
    "            if sol[i-1,j]<sol[i,j]\n",
    "                Bestsol[indices[i]] = 1\n",
    "                j = j-weight[indices[i]]\n",
    "            end       \n",
    "        end\n",
    "    end\n",
    "    \n",
    "    return BestProfit, Bestsol\n",
    "end"
   ]
  },
  {
   "cell_type": "markdown",
   "id": "b0e0aeb8",
   "metadata": {},
   "source": [
    "### Affichage du résultat"
   ]
  },
  {
   "cell_type": "code",
   "execution_count": 4,
   "id": "939d7183",
   "metadata": {},
   "outputs": [
    {
     "name": "stdout",
     "output_type": "stream",
     "text": [
      "\n",
      "******\n",
      "\n",
      "Optimal value = 65.0\n",
      "\n",
      "Optimal x=[0.0, 1.0, 0.0, 1.0]\n"
     ]
    }
   ],
   "source": [
    "BestProfit, Bestsol = resolve(\"instancesETU/KNAPnewformat/test.opb.txt\")\n",
    "println(\"\\n******\\n\\nOptimal value = \", BestProfit, \"\\n\\nOptimal x=\", Bestsol)\n",
    "#graphplot(trParentnodes, trChildnodes, names=trNamenodes, method=:tree)"
   ]
  },
  {
   "cell_type": "markdown",
   "id": "0119d761",
   "metadata": {},
   "source": [
    "#### Adéquation des résultats\n",
    "\n",
    "On a effectué l'algorithme manuellement pour un sac à dos de capacité 10 et avec les objets : \n",
    "\n",
    "|       |       |       |       |       |\n",
    "|:-:    |:-:    |:-:    |:-:    |:-:    |\n",
    "| Poids | 3 | 4 | 5 | 7 |\n",
    "| Prix | 12 |40 | 25 | 42 |  \n",
    "\n",
    "et on obtient un profit maximal de 65 avec des objets de poids 4 et 5.  \n",
    "C'est bien le résultat que l'on obtient avec notre algorithme de programmation dynamique."
   ]
  },
  {
   "cell_type": "markdown",
   "id": "531abd0a",
   "metadata": {},
   "source": [
    "## Test sur les instances du TP2"
   ]
  },
  {
   "cell_type": "code",
   "execution_count": 5,
   "id": "903e5365",
   "metadata": {},
   "outputs": [
    {
     "data": {
      "text/plain": [
       "test (generic function with 1 method)"
      ]
     },
     "execution_count": 5,
     "metadata": {},
     "output_type": "execute_result"
    }
   ],
   "source": [
    "function test(name)\n",
    "    fichier = \"instancesETU/KNAPnewformat/\" * name\n",
    "    BestProfit, BestSol = resolve(fichier)\n",
    "    println(\"Best Profit : \", BestProfit, \"\\nBest Solution : \", BestSol, \"\\n\")\n",
    "end"
   ]
  },
  {
   "cell_type": "code",
   "execution_count": 8,
   "id": "da544734",
   "metadata": {},
   "outputs": [
    {
     "name": "stdout",
     "output_type": "stream",
     "text": [
      "\n",
      "---------------------------------------\n",
      "50 données weakly_correlated\n",
      "profit attendu : 1396\n",
      "Best Profit : 1396.0\n",
      "Best Solution : [0.0, 0.0, 0.0, 1.0, 0.0, 0.0, 0.0, 0.0, 0.0, 0.0, 0.0, 0.0, 0.0, 0.0, 0.0, 0.0, 0.0, 0.0, 0.0, 0.0, 0.0, 0.0, 0.0, 1.0, 0.0, 0.0, 0.0, 0.0, 0.0, 0.0, 0.0, 0.0, 1.0, 0.0, 0.0, 0.0, 1.0, 1.0, 0.0, 0.0, 0.0, 0.0, 0.0, 0.0, 1.0, 0.0, 0.0, 0.0, 0.0, 0.0]\n",
      "\n",
      "\n",
      "profit attendu : 13887\n",
      "Best Profit : 13887.0\n",
      "Best Solution : [0.0, 0.0, 0.0, 0.0, 1.0, 0.0, 0.0, 0.0, 0.0, 0.0, 0.0, 0.0, 0.0, 0.0, 0.0, 0.0, 0.0, 0.0, 0.0, 0.0, 0.0, 0.0, 0.0, 1.0, 0.0, 1.0, 1.0, 0.0, 0.0, 0.0, 0.0, 0.0, 1.0, 0.0, 1.0, 0.0, 0.0, 0.0, 0.0, 0.0, 0.0, 0.0, 0.0, 0.0, 0.0, 0.0, 0.0, 0.0, 0.0, 0.0]\n",
      "\n",
      "\n",
      "100 données weakly_correlated (l'execution du test était beaucoup trop longue pour le TP2)\n",
      "profit attendu : 343446\n",
      "Best Profit : 45953.0\n",
      "Best Solution : [1.0, 0.0, 0.0, 0.0, 1.0, 0.0, 0.0, 0.0, 0.0, 0.0, 0.0, 0.0, 0.0, 0.0, 0.0, 0.0, 0.0, 0.0, 0.0, 0.0, 0.0, 0.0, 0.0, 1.0, 0.0, 1.0, 0.0, 0.0, 0.0, 0.0, 0.0, 0.0, 0.0, 0.0, 0.0, 0.0, 0.0, 0.0, 0.0, 0.0, 0.0, 0.0, 0.0, 0.0, 0.0, 0.0, 0.0, 0.0, 0.0, 0.0, 0.0, 0.0, 0.0, 0.0, 0.0, 0.0, 0.0, 0.0, 0.0, 0.0, 0.0, 0.0, 0.0, 0.0, 1.0, 0.0, 0.0, 0.0, 0.0, 0.0, 0.0, 0.0, 0.0, 0.0, 0.0, 0.0, 0.0, 0.0, 0.0, 0.0, 0.0, 0.0, 0.0, 0.0, 0.0, 0.0, 0.0, 0.0, 0.0, 0.0, 0.0, 0.0, 0.0, 0.0, 0.0, 1.0, 0.0, 0.0, 1.0, 0.0, 0.0, 0.0, 0.0, 0.0, 0.0, 0.0, 0.0, 0.0, 0.0, 0.0, 0.0, 0.0, 0.0, 0.0, 0.0, 0.0, 0.0, 0.0, 1.0, 0.0, 0.0, 0.0, 0.0, 0.0, 0.0, 0.0, 0.0, 0.0, 0.0, 0.0, 0.0, 0.0, 0.0, 0.0, 0.0, 0.0, 0.0, 0.0, 0.0, 0.0, 0.0, 0.0, 0.0, 0.0, 0.0, 0.0, 0.0, 0.0, 0.0, 0.0, 0.0, 0.0, 0.0, 0.0, 0.0, 0.0, 0.0, 0.0, 0.0, 0.0, 0.0, 1.0, 1.0, 0.0, 0.0, 0.0, 0.0, 0.0, 0.0, 0.0, 0.0, 0.0, 0.0, 0.0, 1.0, 0.0, 0.0, 0.0, 0.0, 0.0, 0.0, 0.0, 0.0, 0.0, 0.0, 0.0, 0.0, 1.0, 0.0, 0.0, 0.0, 0.0, 0.0, 0.0, 0.0, 0.0, 0.0, 0.0, 0.0, 0.0, 0.0, 0.0, 0.0, 0.0, 0.0, 0.0, 0.0, 0.0, 0.0, 0.0, 0.0, 0.0, 0.0, 0.0, 0.0, 0.0, 0.0, 0.0, 1.0, 0.0, 1.0, 0.0, 0.0, 0.0, 0.0, 1.0, 0.0, 0.0, 0.0, 1.0, 0.0, 0.0, 0.0, 0.0, 0.0, 0.0, 0.0, 1.0, 0.0, 1.0, 1.0, 0.0, 0.0, 0.0, 0.0, 0.0, 0.0, 0.0, 0.0, 0.0, 0.0, 0.0, 0.0, 0.0, 0.0, 0.0, 0.0, 0.0, 0.0, 0.0, 0.0, 0.0, 0.0, 0.0, 0.0, 0.0, 0.0, 0.0, 0.0, 0.0, 0.0, 0.0, 0.0, 0.0, 0.0, 0.0, 0.0, 0.0, 0.0, 0.0, 0.0, 0.0, 0.0, 0.0, 1.0, 0.0, 0.0, 0.0, 0.0, 0.0, 0.0, 0.0, 0.0, 0.0, 0.0, 0.0, 0.0, 0.0, 0.0, 0.0, 0.0, 0.0, 0.0, 0.0, 0.0, 0.0, 0.0, 0.0, 0.0, 0.0, 0.0, 0.0, 0.0, 0.0, 0.0, 0.0, 0.0, 0.0, 1.0, 0.0, 0.0, 0.0, 0.0, 0.0, 0.0, 0.0, 0.0, 0.0, 0.0, 0.0, 0.0, 0.0, 0.0, 0.0, 0.0, 0.0, 0.0, 0.0, 0.0, 0.0, 0.0, 0.0, 0.0, 0.0, 0.0, 0.0, 0.0, 0.0, 0.0, 1.0, 0.0, 0.0, 0.0, 0.0, 0.0, 0.0, 0.0, 0.0, 0.0, 0.0, 0.0, 0.0, 0.0, 0.0, 0.0, 0.0, 0.0, 0.0, 0.0, 1.0, 0.0, 0.0, 0.0, 0.0, 0.0, 0.0, 0.0, 0.0, 0.0, 0.0, 0.0, 0.0, 0.0, 0.0, 0.0, 0.0, 0.0, 0.0, 0.0, 0.0, 0.0, 0.0, 0.0, 0.0, 0.0, 0.0, 1.0, 0.0, 0.0, 0.0, 0.0, 0.0, 0.0, 1.0, 0.0, 0.0, 0.0, 0.0, 0.0, 0.0, 0.0, 0.0, 0.0, 0.0, 1.0, 0.0, 0.0, 0.0, 0.0, 0.0, 0.0, 0.0, 0.0, 0.0, 0.0, 0.0, 0.0, 0.0, 0.0, 0.0, 0.0, 0.0, 0.0, 0.0, 0.0, 0.0, 0.0, 0.0, 0.0, 0.0, 1.0, 0.0, 0.0, 0.0, 0.0, 0.0, 0.0, 0.0, 0.0, 0.0, 0.0, 0.0, 0.0, 0.0, 0.0, 1.0, 0.0, 0.0, 0.0, 0.0, 0.0, 0.0, 0.0, 0.0, 1.0, 0.0, 0.0, 0.0, 0.0, 0.0, 0.0, 0.0, 0.0, 0.0, 1.0, 0.0, 0.0, 0.0, 0.0, 0.0, 0.0, 0.0, 0.0, 0.0, 0.0, 0.0, 0.0, 0.0, 0.0, 0.0, 0.0, 0.0, 0.0, 0.0, 0.0, 0.0, 0.0, 1.0, 0.0, 1.0]\n",
      "\n",
      "\n",
      "50 données almost_strongly_correlated (l'execution du test était beaucoup trop longue pour le TP2)\n",
      "profit attendu : 2096\n",
      "Best Profit : 2096.0\n",
      "Best Solution : [0.0, 0.0, 0.0, 0.0, 0.0, 0.0, 1.0, 0.0, 0.0, 0.0, 1.0, 0.0, 0.0, 1.0, 0.0, 0.0, 0.0, 0.0, 0.0, 0.0, 0.0, 0.0, 0.0, 1.0, 0.0, 1.0, 0.0, 1.0, 0.0, 0.0, 0.0, 0.0, 1.0, 0.0, 0.0, 1.0, 1.0, 1.0, 1.0, 0.0, 0.0, 0.0, 0.0, 0.0, 0.0, 0.0, 0.0, 0.0, 0.0, 0.0]\n",
      "\n",
      "\n",
      "---------------------------------------\n",
      "20 données circle\n",
      "profit attendu : 2291\n",
      "Best Profit : 2291.0\n",
      "Best Solution : [0.0, 0.0, 1.0, 0.0, 0.0, 1.0, 0.0, 0.0, 0.0, 0.0, 0.0, 0.0, 0.0, 0.0, 1.0, 0.0, 1.0, 0.0, 0.0, 0.0]\n",
      "\n",
      "\n",
      "50 données circle\n",
      "profit attendu : 3408\n",
      "Best Profit : 3408.0\n",
      "Best Solution : [1.0, 0.0, 0.0, 0.0, 0.0, 0.0, 0.0, 0.0, 0.0, 0.0, 0.0, 0.0, 0.0, 0.0, 1.0, 0.0, 0.0, 0.0, 0.0, 0.0, 0.0, 1.0, 0.0, 0.0, 0.0, 0.0, 0.0, 0.0, 0.0, 1.0, 0.0, 1.0, 0.0, 0.0, 0.0, 0.0, 0.0, 0.0, 0.0, 0.0, 0.0, 0.0, 1.0, 0.0, 1.0, 1.0, 0.0, 0.0, 0.0, 0.0]\n",
      "\n",
      "\n",
      "---------------------------------------\n",
      "50 données inverse_strongly_correlated\n",
      "profit attendu : 994\n",
      "Best Profit : 994.0\n",
      "Best Solution : [0.0, 0.0, 0.0, 0.0, 0.0, 0.0, 0.0, 0.0, 0.0, 0.0, 0.0, 0.0, 0.0, 0.0, 0.0, 0.0, 0.0, 0.0, 0.0, 0.0, 0.0, 0.0, 0.0, 0.0, 0.0, 0.0, 0.0, 0.0, 0.0, 0.0, 0.0, 0.0, 0.0, 0.0, 0.0, 0.0, 0.0, 1.0, 0.0, 0.0, 0.0, 0.0, 0.0, 0.0, 0.0, 0.0, 0.0, 0.0, 0.0, 0.0]\n",
      "\n",
      "\n",
      "100 données inverse_strongly_correlated\n",
      "profit attendu : 997\n",
      "Best Profit : 997.0\n",
      "Best Solution : [0.0, 0.0, 0.0, 0.0, 0.0, 0.0, 0.0, 0.0, 0.0, 0.0, 0.0, 0.0, 0.0, 0.0, 0.0, 0.0, 0.0, 0.0, 0.0, 0.0, 0.0, 0.0, 0.0, 0.0, 0.0, 0.0, 0.0, 0.0, 0.0, 0.0, 0.0, 0.0, 0.0, 0.0, 0.0, 0.0, 0.0, 0.0, 0.0, 0.0, 0.0, 0.0, 0.0, 0.0, 0.0, 0.0, 0.0, 0.0, 0.0, 0.0, 0.0, 0.0, 0.0, 0.0, 0.0, 0.0, 0.0, 0.0, 0.0, 0.0, 0.0, 1.0, 0.0, 0.0, 0.0, 0.0, 0.0, 0.0, 0.0, 0.0, 0.0, 0.0, 0.0, 0.0, 0.0, 0.0, 0.0, 0.0, 0.0, 0.0, 0.0, 0.0, 0.0, 0.0, 0.0, 0.0, 0.0, 0.0, 0.0, 0.0, 0.0, 0.0, 0.0, 0.0, 0.0, 0.0, 0.0, 0.0, 0.0, 0.0]\n",
      "\n",
      "\n",
      "200 données inverse_strongly_correlated (l'execution du test était beaucoup trop longue pour le TP2)\n",
      "profit attendu : 3152\n",
      "Best Profit : 3152.0\n",
      "Best Solution : [0.0, 0.0, 0.0, 0.0, 0.0, 0.0, 0.0, 0.0, 0.0, 0.0, 0.0, 0.0, 0.0, 0.0, 0.0, 0.0, 0.0, 0.0, 0.0, 0.0, 0.0, 1.0, 0.0, 0.0, 0.0, 0.0, 0.0, 0.0, 0.0, 0.0, 0.0, 0.0, 0.0, 0.0, 0.0, 0.0, 0.0, 0.0, 0.0, 0.0, 0.0, 0.0, 0.0, 0.0, 0.0, 0.0, 0.0, 0.0, 0.0, 0.0, 0.0, 0.0, 0.0, 0.0, 0.0, 0.0, 0.0, 0.0, 0.0, 0.0, 0.0, 0.0, 0.0, 0.0, 0.0, 0.0, 0.0, 0.0, 0.0, 0.0, 0.0, 0.0, 0.0, 0.0, 0.0, 0.0, 0.0, 0.0, 0.0, 0.0, 0.0, 0.0, 0.0, 0.0, 0.0, 0.0, 0.0, 0.0, 0.0, 0.0, 0.0, 0.0, 0.0, 0.0, 0.0, 0.0, 0.0, 0.0, 0.0, 0.0, 0.0, 0.0, 0.0, 0.0, 0.0, 0.0, 0.0, 0.0, 0.0, 0.0, 0.0, 0.0, 0.0, 0.0, 0.0, 0.0, 0.0, 0.0, 0.0, 0.0, 0.0, 0.0, 0.0, 0.0, 0.0, 0.0, 0.0, 0.0, 0.0, 0.0, 0.0, 0.0, 0.0, 0.0, 0.0, 0.0, 0.0, 0.0, 0.0, 0.0, 0.0, 0.0, 0.0, 0.0, 0.0, 0.0, 0.0, 0.0, 0.0, 0.0, 0.0, 0.0, 0.0, 0.0, 0.0, 0.0, 0.0, 0.0, 0.0, 0.0, 0.0, 0.0, 0.0, 0.0, 0.0, 0.0, 0.0, 0.0, 0.0, 0.0, 0.0, 0.0, 0.0, 0.0, 0.0, 0.0, 0.0, 0.0, 0.0, 0.0, 0.0, 0.0, 0.0, 0.0, 0.0, 0.0, 0.0, 0.0, 0.0, 0.0, 0.0, 0.0, 0.0, 0.0, 0.0, 0.0, 0.0, 0.0, 0.0, 0.0, 0.0, 0.0, 0.0, 0.0, 0.0, 0.0, 0.0, 0.0, 0.0, 0.0, 0.0, 0.0, 0.0, 0.0, 0.0, 0.0, 0.0, 0.0, 0.0, 0.0, 0.0, 0.0, 0.0, 0.0, 0.0, 0.0, 0.0, 0.0, 0.0, 0.0, 0.0, 0.0, 0.0, 0.0, 0.0, 0.0, 0.0, 0.0, 0.0, 0.0, 0.0, 0.0, 0.0, 0.0, 0.0, 0.0, 0.0, 0.0, 0.0, 0.0, 0.0, 0.0, 0.0, 0.0, 0.0, 0.0, 0.0, 0.0, 0.0, 0.0, 0.0, 0.0, 0.0, 0.0, 0.0, 0.0, 0.0, 0.0, 0.0, 0.0, 0.0, 1.0, 0.0, 0.0, 0.0, 0.0, 0.0, 0.0, 0.0, 0.0, 0.0, 0.0, 0.0, 0.0, 0.0, 0.0, 0.0, 0.0, 0.0, 0.0, 0.0, 0.0, 0.0, 0.0, 0.0, 0.0, 0.0, 0.0, 0.0, 0.0, 0.0, 0.0, 0.0, 0.0, 0.0, 0.0, 0.0, 0.0, 0.0, 0.0, 0.0, 0.0, 0.0, 0.0, 0.0, 0.0, 0.0, 0.0, 0.0, 0.0, 0.0, 0.0, 0.0, 0.0, 0.0, 0.0, 0.0, 0.0, 0.0, 0.0, 0.0, 0.0, 0.0, 0.0, 0.0, 0.0, 0.0, 0.0, 0.0, 0.0, 0.0, 0.0, 0.0, 0.0, 0.0, 0.0, 0.0, 0.0, 0.0, 0.0, 0.0, 0.0, 0.0, 0.0, 0.0, 0.0, 0.0, 0.0, 0.0, 0.0, 0.0, 0.0, 0.0, 0.0, 0.0, 0.0, 0.0, 0.0, 0.0, 0.0, 0.0, 0.0, 0.0, 0.0, 0.0, 0.0, 0.0, 1.0, 0.0, 0.0, 0.0, 0.0, 0.0, 0.0, 0.0, 0.0, 0.0, 0.0, 0.0, 0.0, 0.0, 0.0, 0.0, 0.0, 0.0, 0.0, 0.0, 0.0, 0.0, 0.0, 0.0, 0.0, 0.0, 0.0, 0.0, 0.0, 0.0, 0.0, 0.0, 0.0, 1.0, 0.0, 0.0, 0.0, 0.0, 0.0, 0.0, 0.0, 0.0, 0.0, 0.0, 0.0, 0.0, 0.0, 0.0, 0.0, 0.0, 0.0, 0.0, 0.0, 0.0, 0.0, 0.0, 0.0, 0.0, 0.0, 0.0, 0.0, 0.0, 0.0, 0.0, 0.0, 0.0, 0.0, 0.0, 0.0, 0.0, 0.0, 0.0, 0.0, 0.0, 0.0, 0.0, 0.0, 0.0, 0.0, 0.0, 0.0, 0.0, 0.0, 0.0, 0.0, 0.0, 0.0, 0.0, 0.0, 0.0, 0.0, 0.0, 0.0, 0.0, 0.0, 0.0, 0.0, 0.0, 0.0, 0.0, 0.0, 0.0, 0.0, 0.0, 0.0, 0.0, 0.0, 0.0, 0.0, 0.0, 0.0, 0.0, 0.0, 0.0, 0.0, 0.0, 0.0, 0.0, 0.0, 0.0, 0.0, 0.0, 0.0, 0.0, 0.0, 0.0, 0.0, 0.0, 0.0, 0.0, 0.0, 0.0, 0.0, 0.0, 0.0, 0.0, 0.0, 0.0, 0.0, 0.0, 0.0, 0.0, 0.0, 0.0, 0.0, 0.0, 0.0, 0.0, 0.0, 0.0, 0.0, 0.0, 0.0, 0.0, 0.0, 0.0, 0.0, 0.0, 0.0, 0.0, 0.0, 0.0, 0.0, 0.0, 0.0, 0.0, 0.0, 0.0, 0.0, 0.0, 0.0, 0.0, 0.0, 0.0, 0.0, 0.0, 0.0, 0.0, 0.0, 0.0, 0.0, 0.0, 0.0, 0.0, 0.0, 0.0, 0.0, 0.0, 0.0, 0.0, 0.0, 0.0, 0.0, 0.0, 0.0, 0.0, 0.0, 0.0, 0.0, 0.0, 0.0, 0.0, 0.0, 0.0, 0.0, 0.0, 0.0, 0.0, 0.0, 0.0, 0.0, 0.0, 0.0, 0.0, 0.0, 0.0, 0.0, 0.0, 0.0, 0.0, 0.0, 0.0, 0.0]\n",
      "\n",
      "\n",
      "---------------------------------------\n",
      "20 données multiple_strongly_correlated\n",
      "profit attendu : 1794\n",
      "Best Profit : 1794.0\n",
      "Best Solution : [0.0, 0.0, 1.0, 0.0, 0.0, 1.0, 0.0, 0.0, 0.0, 0.0, 0.0, 0.0, 0.0, 0.0, 1.0, 0.0, 1.0, 0.0, 0.0, 0.0]\n",
      "\n",
      "\n",
      "50 données multiple_strongly_correlated (l'execution du test était beaucoup trop longue pour le TP2)\n",
      "profit attendu : 3237\n"
     ]
    },
    {
     "name": "stdout",
     "output_type": "stream",
     "text": [
      "Best Profit : 5737.0\n",
      "Best Solution : [1.0, 0.0, 0.0, 0.0, 0.0, 0.0, 0.0, 0.0, 0.0, 0.0, 0.0, 0.0, 0.0, 0.0, 1.0, 0.0, 0.0, 0.0, 0.0, 0.0, 0.0, 0.0, 0.0, 0.0, 0.0, 0.0, 0.0, 0.0, 0.0, 0.0, 0.0, 0.0, 0.0, 0.0, 0.0, 0.0, 0.0, 0.0, 0.0, 0.0, 0.0, 0.0, 0.0, 0.0, 1.0, 0.0, 0.0, 0.0, 0.0, 0.0, 0.0, 0.0, 0.0, 0.0, 0.0, 0.0, 1.0, 0.0, 0.0, 0.0, 0.0, 0.0, 0.0, 0.0, 0.0, 0.0, 0.0, 0.0, 0.0, 0.0, 0.0, 0.0, 0.0, 0.0, 0.0, 0.0, 0.0, 0.0, 0.0, 0.0, 0.0, 0.0, 0.0, 0.0, 0.0, 0.0, 0.0, 0.0, 0.0, 0.0, 0.0, 0.0, 0.0, 0.0, 1.0, 0.0, 0.0, 1.0, 0.0, 0.0, 0.0, 0.0, 0.0, 0.0, 0.0, 0.0, 1.0, 0.0, 0.0, 0.0, 0.0, 1.0, 0.0, 0.0, 0.0, 0.0, 0.0, 0.0, 0.0, 0.0, 0.0, 0.0, 0.0, 0.0, 0.0, 0.0, 0.0, 1.0, 0.0, 0.0, 0.0, 0.0, 0.0, 1.0, 0.0, 0.0, 0.0, 0.0, 0.0, 0.0, 0.0, 1.0, 0.0, 0.0, 0.0, 1.0, 0.0, 0.0, 0.0, 0.0, 0.0, 0.0, 0.0, 1.0, 0.0, 0.0, 0.0, 0.0, 0.0, 0.0, 0.0, 0.0, 0.0, 0.0, 0.0, 0.0, 0.0, 1.0, 0.0, 0.0, 0.0, 0.0, 0.0, 0.0, 0.0, 1.0, 0.0, 0.0, 1.0, 0.0, 0.0, 0.0, 0.0, 0.0, 0.0, 0.0, 0.0, 0.0, 0.0, 0.0, 0.0, 0.0, 1.0, 0.0, 0.0, 0.0, 0.0, 0.0, 0.0, 0.0, 0.0, 0.0, 0.0, 0.0, 0.0, 0.0, 0.0, 0.0, 0.0, 1.0, 1.0, 1.0, 0.0, 0.0, 0.0, 0.0, 0.0, 0.0, 0.0, 1.0, 0.0, 0.0, 0.0, 0.0, 0.0, 0.0, 0.0, 0.0, 0.0, 0.0, 0.0, 0.0, 0.0, 0.0, 0.0, 0.0, 0.0, 0.0, 0.0, 0.0, 0.0, 0.0, 0.0, 1.0, 0.0, 0.0, 0.0, 0.0, 0.0, 0.0]\n",
      "\n",
      "\n",
      "---------------------------------------\n",
      "20 données profit_ceiling\n",
      "profit attendu : 999\n",
      "Best Profit : 999.0\n",
      "Best Solution : [0.0, 0.0, 1.0, 0.0, 0.0, 1.0, 0.0, 0.0, 0.0, 0.0, 0.0, 0.0, 0.0, 0.0, 1.0, 0.0, 1.0, 0.0, 0.0, 0.0]\n",
      "\n",
      "\n",
      "50 données profit_ceiling (l'execution du test était beaucoup trop longue pour le TP2)\n",
      "profit attendu : 1047\n",
      "Best Profit : 1062.0\n",
      "Best Solution : [1.0, 0.0, 0.0, 0.0, 0.0, 0.0, 0.0, 0.0, 0.0, 0.0, 0.0, 0.0, 0.0, 0.0, 1.0, 0.0, 0.0, 0.0, 0.0, 0.0, 0.0, 0.0, 0.0, 0.0, 0.0, 0.0, 0.0, 0.0, 0.0, 0.0, 0.0, 1.0, 0.0, 0.0, 0.0, 0.0, 0.0, 0.0, 0.0, 0.0, 0.0, 0.0, 0.0, 0.0, 1.0, 0.0, 0.0, 0.0, 0.0, 0.0, 0.0, 0.0, 0.0, 0.0, 0.0, 0.0, 1.0, 0.0, 0.0, 0.0, 0.0, 0.0, 0.0, 0.0, 0.0, 0.0, 0.0, 0.0, 0.0, 0.0, 0.0, 0.0, 0.0, 0.0, 0.0, 0.0, 0.0, 0.0, 0.0, 0.0, 0.0, 0.0, 0.0, 0.0, 0.0, 0.0, 0.0, 0.0, 0.0, 0.0, 0.0, 0.0, 0.0, 0.0, 1.0, 0.0, 0.0, 1.0, 0.0, 0.0, 0.0, 0.0, 0.0, 0.0, 0.0, 0.0, 1.0, 0.0, 0.0, 0.0, 0.0, 1.0, 0.0, 0.0, 0.0, 0.0, 0.0, 0.0, 0.0, 0.0, 0.0, 0.0, 0.0, 0.0, 0.0, 0.0, 0.0, 1.0, 0.0, 0.0, 0.0, 0.0, 0.0, 0.0, 0.0, 0.0, 0.0, 0.0, 0.0, 0.0, 0.0, 1.0, 0.0, 0.0, 0.0, 0.0, 0.0, 0.0, 1.0, 0.0, 0.0, 0.0, 0.0, 1.0, 0.0, 0.0, 0.0, 0.0, 0.0, 0.0, 0.0, 0.0, 0.0, 0.0, 0.0, 0.0, 0.0, 0.0, 0.0, 0.0, 0.0, 0.0, 0.0, 0.0, 0.0, 1.0, 0.0, 0.0, 0.0, 1.0, 0.0, 0.0, 0.0, 0.0, 0.0, 0.0, 0.0, 0.0, 0.0, 0.0, 0.0, 0.0, 0.0, 0.0, 0.0, 0.0, 0.0, 0.0, 0.0, 0.0, 0.0, 0.0, 0.0, 0.0, 0.0, 0.0, 0.0, 0.0, 0.0, 1.0, 0.0, 1.0, 0.0, 0.0, 0.0, 0.0, 0.0, 0.0, 0.0, 0.0, 0.0, 0.0, 0.0, 0.0, 0.0, 0.0, 0.0, 0.0, 0.0, 0.0, 0.0, 0.0, 0.0, 0.0, 0.0, 0.0, 0.0, 0.0, 0.0, 0.0, 0.0, 0.0, 0.0, 1.0, 0.0, 0.0, 0.0, 1.0, 0.0, 0.0]\n",
      "\n",
      "\n",
      "---------------------------------------\n",
      "50 données similar_weights\n",
      "profit attendu : 995\n",
      "Best Profit : 995.0\n",
      "Best Solution : [0.0, 0.0, 0.0, 0.0, 0.0, 0.0, 0.0, 0.0, 0.0, 0.0, 0.0, 0.0, 0.0, 0.0, 0.0, 0.0, 0.0, 0.0, 0.0, 0.0, 0.0, 0.0, 0.0, 0.0, 0.0, 0.0, 0.0, 0.0, 1.0, 0.0, 0.0, 0.0, 0.0, 0.0, 0.0, 0.0, 0.0, 0.0, 0.0, 0.0, 0.0, 0.0, 0.0, 0.0, 0.0, 0.0, 0.0, 0.0, 0.0, 0.0]\n",
      "\n",
      "\n",
      "100 données similar_weights\n",
      "profit attendu : 995\n",
      "Best Profit : 995.0\n",
      "Best Solution : [0.0, 0.0, 0.0, 0.0, 0.0, 0.0, 0.0, 0.0, 0.0, 0.0, 0.0, 0.0, 0.0, 0.0, 0.0, 0.0, 0.0, 0.0, 0.0, 0.0, 0.0, 0.0, 0.0, 0.0, 0.0, 0.0, 0.0, 0.0, 1.0, 0.0, 0.0, 0.0, 0.0, 0.0, 0.0, 0.0, 0.0, 0.0, 0.0, 0.0, 0.0, 0.0, 0.0, 0.0, 0.0, 0.0, 0.0, 0.0, 0.0, 0.0, 0.0, 0.0, 0.0, 0.0, 0.0, 0.0, 0.0, 0.0, 0.0, 0.0, 0.0, 0.0, 0.0, 0.0, 0.0, 0.0, 0.0, 0.0, 0.0, 0.0, 0.0, 0.0, 0.0, 0.0, 0.0, 0.0, 0.0, 0.0, 0.0, 0.0, 0.0, 0.0, 0.0, 0.0, 0.0, 0.0, 0.0, 0.0, 0.0, 0.0, 0.0, 0.0, 0.0, 0.0, 0.0, 0.0, 0.0, 0.0, 0.0, 0.0]\n",
      "\n",
      "\n",
      "200 données similar_weights\n",
      "profit attendu : 995\n",
      "Best Profit : 995.0\n",
      "Best Solution : [0.0, 0.0, 0.0, 0.0, 0.0, 0.0, 0.0, 0.0, 0.0, 0.0, 0.0, 0.0, 0.0, 0.0, 0.0, 0.0, 0.0, 0.0, 0.0, 0.0, 0.0, 0.0, 0.0, 0.0, 0.0, 0.0, 0.0, 0.0, 1.0, 0.0, 0.0, 0.0, 0.0, 0.0, 0.0, 0.0, 0.0, 0.0, 0.0, 0.0, 0.0, 0.0, 0.0, 0.0, 0.0, 0.0, 0.0, 0.0, 0.0, 0.0, 0.0, 0.0, 0.0, 0.0, 0.0, 0.0, 0.0, 0.0, 0.0, 0.0, 0.0, 0.0, 0.0, 0.0, 0.0, 0.0, 0.0, 0.0, 0.0, 0.0, 0.0, 0.0, 0.0, 0.0, 0.0, 0.0, 0.0, 0.0, 0.0, 0.0, 0.0, 0.0, 0.0, 0.0, 0.0, 0.0, 0.0, 0.0, 0.0, 0.0, 0.0, 0.0, 0.0, 0.0, 0.0, 0.0, 0.0, 0.0, 0.0, 0.0, 0.0, 0.0, 0.0, 0.0, 0.0, 0.0, 0.0, 0.0, 0.0, 0.0, 0.0, 0.0, 0.0, 0.0, 0.0, 0.0, 0.0, 0.0, 0.0, 0.0, 0.0, 0.0, 0.0, 0.0, 0.0, 0.0, 0.0, 0.0, 0.0, 0.0, 0.0, 0.0, 0.0, 0.0, 0.0, 0.0, 0.0, 0.0, 0.0, 0.0, 0.0, 0.0, 0.0, 0.0, 0.0, 0.0, 0.0, 0.0, 0.0, 0.0, 0.0, 0.0, 0.0, 0.0, 0.0, 0.0, 0.0, 0.0, 0.0, 0.0, 0.0, 0.0, 0.0, 0.0, 0.0, 0.0, 0.0, 0.0, 0.0, 0.0, 0.0, 0.0, 0.0, 0.0, 0.0, 0.0, 0.0, 0.0, 0.0, 0.0, 0.0, 0.0, 0.0, 0.0, 0.0, 0.0, 0.0, 0.0, 0.0, 0.0, 0.0, 0.0, 0.0, 0.0, 0.0, 0.0, 0.0, 0.0, 0.0, 0.0]\n",
      "\n"
     ]
    }
   ],
   "source": [
    "println(\"\\n---------------------------------------\")\n",
    "println(\"50 données weakly_correlated\")\n",
    "println(\"profit attendu : 1396\")\n",
    "test(\"weakly_correlated/knapPI_2_50_1000_1_-1396.opb.txt\")\n",
    "println(\"\\nprofit attendu : 13887\")\n",
    "test(\"weakly_correlated/knapPI_2_50_10000_1_-13887.opb.txt\")\n",
    "\n",
    "println(\"\\n100 données weakly_correlated (l'execution du test était beaucoup trop longue pour le TP2)\")\n",
    "println(\"profit attendu : 343446\")\n",
    "test(\"weakly_correlated/knapPI_2_100_10000_5_-34346.opb.txt\")\n",
    "\n",
    "println(\"\\n---------------------------------------\")\n",
    "println(\"\\n50 données almost_strongly_correlated (l'execution du test était beaucoup trop longue pour le TP2)\")\n",
    "println(\"profit attendu : 2096\")\n",
    "test(\"almost_strongly_correlated/knapPI_5_50_1000_1_-2096.opb.txt\")\n",
    "\n",
    "\n",
    "println(\"\\n---------------------------------------\")\n",
    "println(\"20 données circle\")\n",
    "println(\"profit attendu : 2291\")\n",
    "test(\"circle/knapPI_16_20_1000_1_-2291.opb.txt\")\n",
    "\n",
    "println(\"\\n50 données circle\")\n",
    "println(\"profit attendu : 3408\")\n",
    "test(\"circle/knapPI_16_50_1000_1_-3408.opb.txt\")\n",
    "\n",
    "\n",
    "println(\"\\n---------------------------------------\")\n",
    "println(\"50 données inverse_strongly_correlated\")\n",
    "println(\"profit attendu : 994\")\n",
    "test(\"inverse_strongly_correlated/knapPI_4_50_1000_1_-994.opb.txt\")\n",
    "\n",
    "println(\"\\n100 données inverse_strongly_correlated\")\n",
    "println(\"profit attendu : 997\")\n",
    "test(\"inverse_strongly_correlated/knapPI_4_100_1000_1_-997.opb.txt\")\n",
    "\n",
    "println(\"\\n200 données inverse_strongly_correlated (l'execution du test était beaucoup trop longue pour le TP2)\")\n",
    "println(\"profit attendu : 3152\")\n",
    "test(\"inverse_strongly_correlated/knapPI_4_200_1000_3_-3152.opb.txt\")\n",
    "\n",
    "println(\"\\n---------------------------------------\")\n",
    "println(\"20 données multiple_strongly_correlated\")\n",
    "println(\"profit attendu : 1794\")\n",
    "test(\"multiple_strongly_correlated/knapPI_14_20_1000_1_-1794.opb.txt\")\n",
    "\n",
    "println(\"\\n50 données multiple_strongly_correlated (l'execution du test était beaucoup trop longue pour le TP2)\")\n",
    "println(\"profit attendu : 3237\")\n",
    "test(\"multiple_strongly_correlated/knapPI_14_50_1000_5_-3237.opb.txt\")\n",
    "\n",
    "println(\"\\n---------------------------------------\")\n",
    "println(\"20 données profit_ceiling\")\n",
    "println(\"profit attendu : 999\")\n",
    "test(\"profit_ceiling/knapPI_15_20_1000_1_-999.opb.txt\")\n",
    "\n",
    "println(\"\\n50 données profit_ceiling (l'execution du test était beaucoup trop longue pour le TP2)\")\n",
    "println(\"profit attendu : 1047\")\n",
    "test(\"profit_ceiling/knapPI_15_50_1000_5_-1047.opb.txt\")\n",
    "\n",
    "println(\"\\n---------------------------------------\")\n",
    "println(\"50 données similar_weights\")\n",
    "println(\"profit attendu : 995\")\n",
    "test(\"similar_weights/knapPI_9_50_1000_1_-995.opb.txt\")\n",
    "\n",
    "println(\"\\n100 données similar_weights\")\n",
    "println(\"profit attendu : 995\")\n",
    "test(\"similar_weights/knapPI_9_100_1000_1_-995.opb.txt\")\n",
    "\n",
    "println(\"\\n200 données similar_weights\")\n",
    "println(\"profit attendu : 995\")\n",
    "test(\"similar_weights/knapPI_9_200_1000_1_-995.opb.txt\")"
   ]
  },
  {
   "cell_type": "markdown",
   "id": "efc4e4c4",
   "metadata": {},
   "source": [
    "Pour la plupart des données testées, on obtient un profit maximal qui correspond à celui attendu  \n",
    "Cependant nous avons un problème sur les données :   \n",
    "weakly_correlated/knapPI_2_100_10000_5_-34346.opb.txt  \n",
    "le profit trouvé est de 45953 au lieu de 34346  \n",
    "\n",
    "multiple_strongly_correlated/knapPI_14_50_1000_5_-3237.opb.txt  \n",
    "le profit trouvé est de 5737 au lieu de 3237  \n",
    "\n",
    "profit_ceiling/knapPI_15_50_1000_5_-1047.opb.txt  \n",
    "le profit trouvé est de 1062 au lieu de 1047  \n",
    "\n",
    " Nous avons donc créé une fonction pour déterminer si le profit trouvé est valide (c'est à dire correspond aux contraintes), si c'est le cas alors cela veut dire que la solution trouvée est correcte et que la solution attendue n'était pas la meilleure possible."
   ]
  },
  {
   "cell_type": "code",
   "execution_count": 5,
   "id": "348ae4c8",
   "metadata": {},
   "outputs": [
    {
     "data": {
      "text/plain": [
       "verification (generic function with 1 method)"
      ]
     },
     "execution_count": 5,
     "metadata": {},
     "output_type": "execute_result"
    }
   ],
   "source": [
    "function verification(name)\n",
    "    fichier = \"instancesETU/KNAPnewformat/\" * name\n",
    "    price, weight, capacity = readKnaptxtInstance(fichier)\n",
    "    BestProfit, BestSol = resolve(fichier)\n",
    "    valide = true\n",
    "    \n",
    "    # Vérifier aue la capacité ne dépasse pas celle du sac à dos\n",
    "    capacite_utilise = sum(BestSol .* weight)\n",
    "    if capacite_utilise <= capacity\n",
    "        println(\"La capacité utilisé est correcte : (capacité utilisée : \", capacite_utilise, \") <= (capacité totale : \", capacity,\")\")\n",
    "    else\n",
    "        println(\"La capacité utilisé est incorrecte : (capacité utilisée : \", capacite_utilise, \") > (capacité totale : \", capacity,\")\")\n",
    "        valide = false\n",
    "    end\n",
    "    \n",
    "    # Vérifier que le profit trouvé correspond au calculé\n",
    "    profit = sum(price .* BestSol)\n",
    "    if profit == BestProfit\n",
    "        println(\"Le profit trouvé correspond au calculé : \", BestProfit)\n",
    "    else\n",
    "        println(\"Le profit trouvé (\",BestProfit,\") ne correspond pas au calculé (\", profit, \")\")\n",
    "        valide = false\n",
    "    end\n",
    "    \n",
    "    # Vérifier que l'on met bien chaque objet au maximum une fois dans le sac\n",
    "    max_obj = maximum(BestSol)\n",
    "    if max_obj > 1\n",
    "        println(\"Un ou plusieurs objets sont mis plus d'une fois dans le sac (\", max_obj, \"fois)\")\n",
    "        valide = false\n",
    "    else\n",
    "        println(\"Chaque objet est mis au maximum une fois dans le sac\")\n",
    "    end\n",
    "    \n",
    "    println(\"Conclusion :La solution trouvée \", valide ? \"est bien\" : \"n'est pas\", \" valide\")\n",
    "end"
   ]
  },
  {
   "cell_type": "code",
   "execution_count": 6,
   "id": "af8ec876",
   "metadata": {},
   "outputs": [
    {
     "name": "stdout",
     "output_type": "stream",
     "text": [
      "Vérification pour le fichier weakly_correlated/knapPI_2_100_10000_5_-34346.opb.txt\n",
      "La capacité utilisé est correcte : (capacité utilisée : 24565.0) <= (capacité totale : 24600)\n",
      "Le profit trouvé correspond au calculé : 45953.0\n",
      "Chaque objet est mis au maximum une fois dans le sac\n",
      "Conclusion :La solution trouvée est bien valide\n",
      "\n",
      "Vérification pour le fichier multiple_strongly_correlated/knapPI_14_50_1000_5_-3237.opb.txt\n",
      "La capacité utilisé est correcte : (capacité utilisée : 1037.0) <= (capacité totale : 1037)\n",
      "Le profit trouvé correspond au calculé : 5737.0\n",
      "Chaque objet est mis au maximum une fois dans le sac\n",
      "Conclusion :La solution trouvée est bien valide\n",
      "\n",
      "Vérification pour le fichier profit_ceiling/knapPI_15_50_1000_5_-1047.opb.txt\n",
      "La capacité utilisé est correcte : (capacité utilisée : 1037.0) <= (capacité totale : 1037)\n",
      "Le profit trouvé correspond au calculé : 1062.0\n",
      "Chaque objet est mis au maximum une fois dans le sac\n",
      "Conclusion :La solution trouvée est bien valide\n"
     ]
    }
   ],
   "source": [
    "println(\"Vérification pour le fichier weakly_correlated/knapPI_2_100_10000_5_-34346.opb.txt\")\n",
    "verification(\"weakly_correlated/knapPI_2_100_10000_5_-34346.opb.txt\")\n",
    "\n",
    "println(\"\\nVérification pour le fichier multiple_strongly_correlated/knapPI_14_50_1000_5_-3237.opb.txt\")\n",
    "verification(\"multiple_strongly_correlated/knapPI_14_50_1000_5_-3237.opb.txt\")\n",
    "\n",
    "println(\"\\nVérification pour le fichier profit_ceiling/knapPI_15_50_1000_5_-1047.opb.txt\")\n",
    "verification(\"profit_ceiling/knapPI_15_50_1000_5_-1047.opb.txt\")"
   ]
  },
  {
   "cell_type": "markdown",
   "id": "18c7d963",
   "metadata": {},
   "source": [
    "Les solutions trouvés par l'algorithme de programmation dynamique sont donc bien toutes valides."
   ]
  },
  {
   "cell_type": "markdown",
   "id": "86ce91df",
   "metadata": {},
   "source": [
    "On obtient les mêmes valeurs de fonction-objectif pour le TP2. Cependant on remarque que l'execution du solver est plus rapide pour la programmation dynamique."
   ]
  }
 ],
 "metadata": {
  "kernelspec": {
   "display_name": "Julia 1.8.2",
   "language": "julia",
   "name": "julia-1.8"
  },
  "language_info": {
   "file_extension": ".jl",
   "mimetype": "application/julia",
   "name": "julia",
   "version": "1.8.2"
  }
 },
 "nbformat": 4,
 "nbformat_minor": 5
}
